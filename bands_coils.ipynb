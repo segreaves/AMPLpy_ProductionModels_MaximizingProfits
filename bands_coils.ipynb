{
 "cells": [
  {
   "cell_type": "markdown",
   "metadata": {},
   "source": [
    "Chapter 1\n",
    "\n",
    "Solving the problem:\n",
    "\n",
    "maximize profit:<br>\n",
    "25 * XB + 30 * XC\n",
    "\n",
    "st:<br>\n",
    "200 * XB <= 6000<br>\n",
    "140 * XC <= 4000<br>\n",
    "(XB / 200) + (XC / 140) <= 40"
   ]
  },
  {
   "cell_type": "code",
   "execution_count": 15,
   "metadata": {},
   "outputs": [],
   "source": [
    "from amplpy import AMPL\n",
    "ampl = AMPL()\n",
    "ampl.option['solver'] = 'highs'"
   ]
  },
  {
   "cell_type": "markdown",
   "metadata": {},
   "source": [
    "Declare model and data"
   ]
  },
  {
   "cell_type": "code",
   "execution_count": 16,
   "metadata": {},
   "outputs": [
    {
     "name": "stdout",
     "output_type": "stream",
     "text": [
      "HiGHS 1.7.1:HiGHS 1.7.1: optimal solution; objective 192000\n",
      "1 simplex iterations\n",
      "0 barrier iterations\n"
     ]
    }
   ],
   "source": [
    "# must be reset to be able to re-run\n",
    "ampl.reset()\n",
    "\n",
    "ampl.eval(\n",
    "'''\n",
    "set PROD; # products\n",
    "\n",
    "param rate {PROD} > 0; # tons produced per hour\n",
    "param avail >= 0; # hours available in week\n",
    "param profit {PROD} >= 0; # profit per ton\n",
    "param market {PROD} >= 0; # limit on tons sold in week\n",
    "\n",
    "var Make {p in PROD} >= 0, <= market[p]; # tons produced\n",
    "maximize Total_Profit: sum {p in PROD} profit[p] * Make[p]; # objective: total profits from all products\n",
    "subject to Time: sum {p in PROD} (1/rate[p]) * Make[p] <= avail; # constraint: total hours used in week\n",
    "''')\n",
    "\n",
    "ampl.eval(\n",
    "'''\n",
    "data;\n",
    "set PROD := bands coils;\n",
    "param: rate profit market :=\n",
    "bands 200 25 6000\n",
    "coils 140 30 4000;\n",
    "param avail := 40;\n",
    "''')\n",
    "\n",
    "ampl.eval('''expand;''')\n",
    "\n",
    "ampl.solve()"
   ]
  },
  {
   "cell_type": "code",
   "execution_count": 17,
   "metadata": {},
   "outputs": [
    {
     "name": "stdout",
     "output_type": "stream",
     "text": [
      "Make [*] :=\n",
      "bands  6000\n",
      "coils  1400\n",
      ";\n",
      "\n"
     ]
    }
   ],
   "source": [
    "ampl.display('Total_Profit')\n",
    "ampl.display('Make')"
   ]
  }
 ],
 "metadata": {
  "kernelspec": {
   "display_name": "Python 3",
   "language": "python",
   "name": "python3"
  },
  "language_info": {
   "codemirror_mode": {
    "name": "ipython",
    "version": 3
   },
   "file_extension": ".py",
   "mimetype": "text/x-python",
   "name": "python",
   "nbconvert_exporter": "python",
   "pygments_lexer": "ipython3",
   "version": "3.10.4"
  }
 },
 "nbformat": 4,
 "nbformat_minor": 2
}
