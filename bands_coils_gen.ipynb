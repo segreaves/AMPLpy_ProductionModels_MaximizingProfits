{
 "cells": [
  {
   "cell_type": "markdown",
   "metadata": {},
   "source": [
    "Chapter 1\n",
    "\n",
    "Solving the problem:\n",
    "\n",
    "maximize profit:<br>\n",
    "25 * XB + 30 * XC\n",
    "\n",
    "st:<br>\n",
    "200 * XB <= 6000<br>\n",
    "140 * XC <= 4000<br>\n",
    "(XB / 200) + (XC / 140) <= 40"
   ]
  },
  {
   "cell_type": "code",
   "execution_count": 2,
   "metadata": {},
   "outputs": [
    {
     "name": "stdout",
     "output_type": "stream",
     "text": [
      "Note: you may need to restart the kernel to use updated packages.\n"
     ]
    },
    {
     "name": "stderr",
     "output_type": "stream",
     "text": [
      "WARNING: Error parsing dependencies of bleach: Expected matching RIGHT_PARENTHESIS for LEFT_PARENTHESIS, after version specifier\n",
      "    tinycss2 (>=1.1.0<1.2) ; extra == 'css'\n",
      "             ~~~~~~~~^\n"
     ]
    }
   ],
   "source": [
    "%pip install -q amplpy"
   ]
  },
  {
   "cell_type": "code",
   "execution_count": 22,
   "metadata": {},
   "outputs": [],
   "source": [
    "from amplpy import AMPL\n",
    "ampl = AMPL()\n",
    "ampl.option['solver'] = 'highs'"
   ]
  },
  {
   "cell_type": "markdown",
   "metadata": {},
   "source": [
    "Declare model and data"
   ]
  },
  {
   "cell_type": "code",
   "execution_count": 32,
   "metadata": {},
   "outputs": [
    {
     "name": "stdout",
     "output_type": "stream",
     "text": [
      "maximize Total_Profit:\n",
      "\t25*Make['bands'] + 30*Make['coils'] + 29*Make['plate'];\n",
      "\n",
      "subject to Time['reheat']:\n",
      "\t0.005*Make['bands'] + 0.005*Make['coils'] + 0.005*Make['plate'] <= 35;\n",
      "\n",
      "subject to Time['roll']:\n",
      "\t0.005*Make['bands'] + 0.00714286*Make['coils'] + 0.00625*Make['plate']\n",
      "\t <= 40;\n",
      "\n",
      "HiGHS 1.7.1:HiGHS 1.7.1: optimal solution; objective 190071.4286\n",
      "2 simplex iterations\n",
      "0 barrier iterations\n"
     ]
    }
   ],
   "source": [
    "# must be reset to be able to re-run\n",
    "ampl.reset()\n",
    "\n",
    "ampl.eval(\n",
    "'''\n",
    "set PROD;\n",
    "set STAGE;\n",
    "\n",
    "param rate {PROD, STAGE} > 0;\n",
    "param avail {STAGE} >= 0;\n",
    "param profit {PROD} >= 0;\n",
    "param commit {PROD} >= 0;\n",
    "param market {PROD} >= 0;\n",
    "\n",
    "var Make {p in PROD} >= commit[p], <= market[p];\n",
    "maximize Total_Profit: sum {p in PROD} profit[p] * Make[p];\n",
    "subject to Time {s in STAGE}: sum {p in PROD} (1/rate[p, s]) * Make[p] <= avail[s];\n",
    "''')\n",
    "\n",
    "ampl.set['PROD'] = ['bands', 'coils', 'plate']\n",
    "ampl.set['STAGE'] = ['reheat', 'roll']\n",
    "ampl.param['rate'] = {\n",
    "    ('bands', 'reheat'): 200, ('bands', 'roll'): 200,\n",
    "    ('coils', 'reheat'): 200, ('coils', 'roll'): 140,\n",
    "    ('plate', 'reheat'): 200, ('plate', 'roll'): 160\n",
    "    }\n",
    "ampl.param['profit'] = [25, 30, 29]\n",
    "ampl.param['commit'] = [1000, 500, 750]\n",
    "ampl.param['market'] = [6000, 4000, 3500]\n",
    "ampl.param['avail'] = [35, 40]\n",
    "\n",
    "ampl.eval('''expand;''')\n",
    "\n",
    "ampl.solve()"
   ]
  },
  {
   "cell_type": "code",
   "execution_count": 37,
   "metadata": {},
   "outputs": [
    {
     "name": "stdout",
     "output_type": "stream",
     "text": [
      "Total_Profit = 190071\n",
      "\n",
      "Make [*] :=\n",
      "bands  3357.14\n",
      "coils   500\n",
      "plate  3142.86\n",
      ";\n",
      "\n"
     ]
    }
   ],
   "source": [
    "ampl.display('Total_Profit')\n",
    "ampl.display('Make')"
   ]
  },
  {
   "cell_type": "markdown",
   "metadata": {},
   "source": [
    "Display marginal values"
   ]
  },
  {
   "cell_type": "code",
   "execution_count": 38,
   "metadata": {},
   "outputs": [
    {
     "name": "stdout",
     "output_type": "stream",
     "text": [
      "Time [*] :=\n",
      "reheat  1800\n",
      "  roll  3200\n",
      ";\n",
      "\n",
      "Make.lb [*] :=\n",
      "bands  1000\n",
      "coils   500\n",
      "plate   750\n",
      ";\n",
      "\n",
      "Make.ub [*] :=\n",
      "bands  6000\n",
      "coils  4000\n",
      "plate  3500\n",
      ";\n",
      "\n",
      "Make.rc [*] :=\n",
      "bands  -5.32907e-15\n",
      "coils  -1.85714\n",
      "plate  -7.10543e-15\n",
      ";\n",
      "\n"
     ]
    }
   ],
   "source": [
    "ampl.display('Time')\n",
    "ampl.display('Make.lb')\n",
    "ampl.display('Make.ub')\n",
    "ampl.display('Make.rc')"
   ]
  }
 ],
 "metadata": {
  "kernelspec": {
   "display_name": "Python 3",
   "language": "python",
   "name": "python3"
  },
  "language_info": {
   "codemirror_mode": {
    "name": "ipython",
    "version": 3
   },
   "file_extension": ".py",
   "mimetype": "text/x-python",
   "name": "python",
   "nbconvert_exporter": "python",
   "pygments_lexer": "ipython3",
   "version": "3.10.4"
  }
 },
 "nbformat": 4,
 "nbformat_minor": 2
}
